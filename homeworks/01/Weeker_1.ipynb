{
 "cells": [
  {
   "cell_type": "markdown",
   "metadata": {},
   "source": [
    "# Недельник 1\n",
    "\n",
    "Как было сказано на лекции, на текущей неделе вы получаете ежедневные задания. Система оценки следующая: в первый день(четверг) вы делаете первый pull-request в ветку homework_01. Потом каждый день делаете коммит, он будет автоматически привязывать к pull-request. Если задачка не сделана в течении 2-х дней она сгорает. (Можно четверг сделать в четверг и пятницу)"
   ]
  },
  {
   "cell_type": "markdown",
   "metadata": {},
   "source": [
    "# Четверг"
   ]
  },
  {
   "cell_type": "code",
   "execution_count": 135,
   "metadata": {},
   "outputs": [],
   "source": [
    "#TODO Сделайте калькулятор произвольных выражений, операции следующие: +, -, /, ^, *. скобок нет\n",
    "def calculate(input_str):\n",
    "    input_str = input_str.replace(\"^\", \"**\")\n",
    "    return eval(input_str)"
   ]
  },
  {
   "cell_type": "code",
   "execution_count": 136,
   "metadata": {},
   "outputs": [],
   "source": [
    "assert calculate(\"2 + 2 * 2\") == 6\n",
    "assert calculate(\"345 / 5 * 21\") == 1449.\n",
    "assert calculate(\"3^3 - 10 + 41 * 3\") == 140\n",
    "assert calculate(\"42 / 7 * 32\") == 192.0\n",
    "assert calculate(\"16/8-2\") == 0.\n",
    "assert calculate (\"2^2^3\") == 256"
   ]
  },
  {
   "cell_type": "markdown",
   "metadata": {},
   "source": [
    "# Пятница"
   ]
  },
  {
   "cell_type": "code",
   "execution_count": 137,
   "metadata": {},
   "outputs": [],
   "source": [
    "#TODO метод разворачивающий строку HE2LO -> HELLO (число означает сколько раз встречается буква)\n",
    "def transform_string(inp_string):\n",
    "    chislo_index = 0 #индекс для массива, сохраняющего числа из строк\n",
    "    chislo = [] #сам этот массив\n",
    "    chislo.append(0)\n",
    "    new_string = \"\" #промежуточная строка\n",
    "    for i in range (len(inp_string)):\n",
    "        if inp_string[i].isdecimal():\n",
    "            chislo[chislo_index] = 10*chislo[chislo_index]+int(inp_string[i]) #сохраняем последовательно чиселки из строки\n",
    "            if inp_string[i+1].isdecimal():\n",
    "                new_string = new_string + \"\" \n",
    "                continue\n",
    "            else: #удаляем все цифры, кроме одной,если это не цифра; цифры будем использовать как метки\n",
    "                chislo.append(0) #увеличиваем массив чисел и его индекс\n",
    "                chislo_index += 1 \n",
    "        new_string = new_string + inp_string[i] #добавляем НеЦифры и одиночные цифры в промежуточную строку\n",
    "    #print (new_string) отладка\n",
    "    chislo_index = 0\n",
    "    j = 0\n",
    "    transf_string = \"\" #это будет итоговая строка\n",
    "    i = 0\n",
    "    while i < len(new_string):\n",
    "        if new_string[i].isdecimal(): #ищем цифры-метки\n",
    "            if chislo[chislo_index] == 0:\n",
    "                    i+=1\n",
    "            else:\n",
    "                for j in range (chislo[chislo_index]-1):\n",
    "                    if chislo[chislo_index] == 0:\n",
    "                        i+=1\n",
    "                    else:\n",
    "                        transf_string = transf_string+new_string[i+1]\n",
    "                #добавляем буквы, следующие за ними, соответственное число раз; если 0 - не добавляем\n",
    "                #print(transf_string,\"in cycle\") отладка\n",
    "            chislo_index += 1 \n",
    "        else:\n",
    "            transf_string = transf_string+new_string[i] # добавляем остальные символы\n",
    "            #print(transf_string,\"not in cycle\") отладка\n",
    "        i += 1\n",
    "    return transf_string"
   ]
  },
  {
   "cell_type": "code",
   "execution_count": 138,
   "metadata": {},
   "outputs": [],
   "source": [
    "assert transform_string(\"HE2LO\") == \"HELLO\"\n",
    "assert transform_string(\"HI\") == \"HI\"\n",
    "assert transform_string(\"пр12ивет\") == \"приииииииииииивет\"\n",
    "assert transform_string(\"2л3у78н65тик\") == 'ллуууннннннннннннннннннннннннннннннннннннннннннннннннннннннннннннннннннннннннннннннтттттттттттттттттттттттттттттттттттттттттттттттттттттттттттттттттик'\n",
    "assert transform_string(\"A2bA is g12od\") == 'AbbA is gooooooooooood'\n",
    "assert transform_string(\"Zdes3_po3_tri3_cherty\") == 'Zdes___po___tri___cherty'\n",
    "assert transform_string(\"Uber0u\") == 'Uber'"
   ]
  },
  {
   "cell_type": "markdown",
   "metadata": {},
   "source": [
    "# Суббота"
   ]
  },
  {
   "cell_type": "code",
   "execution_count": 139,
   "metadata": {},
   "outputs": [],
   "source": [
    "#TODO метод выводящий статистику по строке, кол-во гласных, согласных, цифр, строчных букв, прописных букв\n",
    "def string_stat(inp_string):\n",
    "    gl = 0\n",
    "    sogl = 0\n",
    "    cyfr = 0\n",
    "    stro = 0\n",
    "    prop = 0\n",
    "    gl_mno = set (\"аоуыэяяёюие\")\n",
    "    for i in inp_string:\n",
    "        if i.lower() in gl_mno:\n",
    "            gl += 1\n",
    "        if i.isdigit():\n",
    "            cyfr += 1\n",
    "        if i.islower():\n",
    "            stro += 1\n",
    "        if i.isupper():\n",
    "            prop += 1\n",
    "        if ((i.isalpha()) and (not (i.lower() in gl_mno))):\n",
    "            sogl += 1\n",
    "        itog = (gl, sogl, cyfr, stro, prop)\n",
    "    return itog"
   ]
  },
  {
   "cell_type": "code",
   "execution_count": 140,
   "metadata": {},
   "outputs": [],
   "source": [
    "assert string_stat(\"Тевирп\") == (2, 4, 0, 5, 1)\n",
    "assert string_stat(\"КоРоВа4\") == (3, 3, 1, 3, 3)\n",
    "assert string_stat(\"восемнадцать 18букв\") == (5, 11, 2, 16, 0)\n",
    "assert string_stat(\"ШрИфТ__ЗаБоР__0)0))0)\") == (3, 7, 3, 4, 6)"
   ]
  },
  {
   "cell_type": "markdown",
   "metadata": {},
   "source": [
    "# Воскресенье - ВЫХОДНОЙ"
   ]
  },
  {
   "cell_type": "markdown",
   "metadata": {},
   "source": [
    "# Понедельник"
   ]
  },
  {
   "cell_type": "code",
   "execution_count": 141,
   "metadata": {},
   "outputs": [],
   "source": [
    "#TODO инвертируйте словарь из k - [v_1, v_2] в v_1 [k_1]\n",
    "def dict_inverter(input_dict): \n",
    "    new_dict = dict() \n",
    "    for key in input_dict: #берем все ключи из словаря; им соответствуют списки значений\n",
    "        for value in input_dict[key]: #итерируемся по текущему списку значений\n",
    "            if value in new_dict: #если значения совпадают для нескольких ключей начального словаря\n",
    "                if type(new_dict[value]) == type([]): \n",
    "                    new_dict[value].append(key) #действие при третьей и далее встрече одного значения из начального словаря\n",
    "                else: \n",
    "                    new_dict[value] = [new_dict[value], key] #действие при второй встрече значения\n",
    "                continue \n",
    "            new_dict[value] = key #действие при первой встрече значения (если значение встречается только для одного ключа)\n",
    "    return new_dict"
   ]
  },
  {
   "cell_type": "code",
   "execution_count": 142,
   "metadata": {},
   "outputs": [],
   "source": [
    "assert dict_inverter({\"mango\" : [\"eatable\"], \"pillow\": [\"sleepable\"]}) == {\"eatable\": \"mango\", \"sleepable\": \"pillow\"}\n",
    "assert dict_inverter({\"mango\" : [\"eatable\", \"readable\"]}) == {\"readable\":\"mango\", \"eatable\":\"mango\"}\n",
    "assert dict_inverter({\"mango\" : [\"eatable\"], \"banana\": [\"eatable\"]}) == {\"eatable\": [\"mango\", \"banana\"]}\n",
    "assert dict_inverter({\"mango\" : [\"eatable\"], \"banana\": [\"eatable\", \"sweet\"], \"pillow\": [\"sweet\"]}) == {\"eatable\": [\"mango\", \"banana\"],\"sweet\": [\"banana\", \"pillow\"]}"
   ]
  },
  {
   "cell_type": "markdown",
   "metadata": {},
   "source": [
    "# Вторник"
   ]
  },
  {
   "cell_type": "code",
   "execution_count": 143,
   "metadata": {},
   "outputs": [],
   "source": [
    "#TODO вывести уникальные элементы массива\n",
    "def uniq_array(input_arr):\n",
    "    i = 0\n",
    "    a = set ()\n",
    "    while i < len(input_arr): #добавляем во множество все возможные элементы\n",
    "        a.add(input_arr[i])\n",
    "        i += 1\n",
    "    i = 0\n",
    "    while i < len(input_arr):\n",
    "        if input_arr[i] in a: #если элемент встречен впервые, просто убираем его из множества\n",
    "            a.remove(input_arr[i])\n",
    "            i += 1 #элемент сохранили, нужно увеличить индекс\n",
    "        else: #else сработает, если элемент встречен второй или более раз и его уже нет во множестве\n",
    "            input_arr.pop(i) #удаляем элемент из массива, индекс следующего элемента будет тем же\n",
    "    return input_arr"
   ]
  },
  {
   "cell_type": "code",
   "execution_count": 144,
   "metadata": {},
   "outputs": [],
   "source": [
    "assert uniq_array([0]) == [0]\n",
    "assert uniq_array([0, 1, 2, 3]) == [0, 1, 2, 3]\n",
    "assert uniq_array([\"f\", \"t\", \"f\"]) == ['f', 't']\n",
    "assert uniq_array(['rt', 'rt']) == ['rt']\n",
    "assert uniq_array([0, 2, 1, 1, 0, 1]) == [0, 2, 1] \n",
    "assert uniq_array(['string', 'a', 2, 'a', 5, 2, 3]) == ['string', 'a', 2, 5, 3]"
   ]
  },
  {
   "cell_type": "code",
   "execution_count": null,
   "metadata": {},
   "outputs": [],
   "source": []
  }
 ],
 "metadata": {
  "kernelspec": {
   "display_name": "Python 3",
   "language": "python",
   "name": "python3"
  },
  "language_info": {
   "codemirror_mode": {
    "name": "ipython",
    "version": 3
   },
   "file_extension": ".py",
   "mimetype": "text/x-python",
   "name": "python",
   "nbconvert_exporter": "python",
   "pygments_lexer": "ipython3",
   "version": "3.6.5"
  }
 },
 "nbformat": 4,
 "nbformat_minor": 2
}
